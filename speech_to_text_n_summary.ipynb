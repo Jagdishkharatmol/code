{
  "cells": [
    {
      "cell_type": "markdown",
      "source": [
        "**Getting text from audio**"
      ],
      "metadata": {
        "id": "YpNFAYfke2Wa"
      }
    },
    {
      "cell_type": "code",
      "source": [
        "!pip install -U openai-whisper"
      ],
      "metadata": {
        "id": "jjlD_-DlSzw0"
      },
      "execution_count": null,
      "outputs": []
    },
    {
      "cell_type": "code",
      "source": [
        "import whisper\n",
        "\n",
        "model = whisper.load_model(\"base\")\n",
        "result = model.transcribe(\"/content/extention_v2.mp3\")\n",
        "print(f' The text in video: \\n {result[\"text\"]}')"
      ],
      "metadata": {
        "id": "5out6r4RS1pS"
      },
      "execution_count": null,
      "outputs": []
    },
    {
      "cell_type": "code",
      "source": [
        "!whisper \"/content/extention_v2.mp3\" --language English"
      ],
      "metadata": {
        "id": "fkuazdmrYW-4"
      },
      "execution_count": null,
      "outputs": []
    },
    {
      "cell_type": "code",
      "execution_count": null,
      "metadata": {
        "id": "DaZBFLPK7is2"
      },
      "outputs": [],
      "source": [
        "!wget https://gpt4all.io/models/ggml-gpt4all-j-v1.3-groovy.bin"
      ]
    },
    {
      "cell_type": "markdown",
      "source": [
        "**GPT Model for summary**"
      ],
      "metadata": {
        "id": "TyMCG_6gexGN"
      }
    },
    {
      "cell_type": "code",
      "execution_count": null,
      "metadata": {
        "id": "TN0OKdi3_kDg"
      },
      "outputs": [],
      "source": [
        "!pip install gpt4all"
      ]
    },
    {
      "cell_type": "code",
      "execution_count": 15,
      "metadata": {
        "id": "YetVwZ1SC8Np"
      },
      "outputs": [],
      "source": [
        "meet_data=result[\"text\"]\n",
        "prompt=f'''Provide me point wise summary of meeting with proper  title from this text \"{meet_data}\".'''"
      ]
    },
    {
      "cell_type": "code",
      "source": [
        "from gpt4all import GPT4All\n",
        "model = GPT4All(\"orca-mini-3b.ggmlv3.q4_0.bin\")\n",
        "output = model.generate(prompt)\n",
        "print(f'The summary of meeting : \\n {output}')"
      ],
      "metadata": {
        "id": "JULZFtXUjqfv"
      },
      "execution_count": null,
      "outputs": []
    },
    {
      "cell_type": "code",
      "source": [
        "with model.chat_session():\n",
        "    response = model.generate(prompt='Good Morning!', top_k=1)\n",
        "    response = model.generate(prompt=f'Provide me point wise summary of meeting with proper  title from this text \"{meet_data}\"', top_k=1)\n",
        "    response = model.generate(prompt='thank you', top_k=1)\n",
        "    print(model.current_chat_session)"
      ],
      "metadata": {
        "colab": {
          "base_uri": "https://localhost:8080/"
        },
        "id": "u-fGtOVJSr0Y",
        "outputId": "102b4f7d-fbe0-48f1-f607-6d1e6cce4d0c"
      },
      "execution_count": 17,
      "outputs": [
        {
          "output_type": "stream",
          "name": "stdout",
          "text": [
            "[{'role': 'system', 'content': '### System:\\nYou are an AI assistant that follows instruction extremely well. Help as much as you can.'}, {'role': 'user', 'content': 'Good Morning!'}, {'role': 'assistant', 'content': ' Good morning! How can I assist you today?'}, {'role': 'user', 'content': 'Provide me point wise summary of meeting with proper  title from this text \" So, after structured collection of the data, this data is passed through AI model. It\\'s up to predict the various categories like the utility category, rent the categories. These are the categories, it\\'s predicts and then this is used to help the user to show analysis so that we can make a decision based on the data and also we provide him some information like how we can improve his financial health. As we have already shown this in our previous videos, thank you.\"'}, {'role': 'assistant', 'content': ' During the meeting, it was discussed that after collecting relevant data, the AI model is used to predict various categories such as utility and rent. The predicted values are then provided to the user for decision-making purposes. Additionally, insights on how to improve financial health were also shared. This was reiterated in a previous video, thank you.'}, {'role': 'user', 'content': 'thank you'}, {'role': 'assistant', 'content': \" You're welcome! Is there anything else I can help you with?\"}]\n"
          ]
        }
      ]
    },
    {
      "cell_type": "code",
      "source": [],
      "metadata": {
        "id": "JMgihQ91x6Q4"
      },
      "execution_count": null,
      "outputs": []
    }
  ],
  "metadata": {
    "accelerator": "GPU",
    "colab": {
      "provenance": []
    },
    "kernelspec": {
      "display_name": "Python 3",
      "name": "python3"
    },
    "language_info": {
      "name": "python"
    }
  },
  "nbformat": 4,
  "nbformat_minor": 0
}
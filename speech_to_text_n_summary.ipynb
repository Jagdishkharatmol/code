{
  "cells": [
    {
      "cell_type": "markdown",
      "source": [
        "**Getting text from audio**"
      ],
      "metadata": {
        "id": "YpNFAYfke2Wa"
      }
    },
    {
      "cell_type": "code",
      "source": [
        "!pip install -U openai-whisper"
      ],
      "metadata": {
        "id": "jjlD_-DlSzw0"
      },
      "execution_count": null,
      "outputs": []
    },
    {
      "cell_type": "code",
      "source": [
        "import whisper\n",
        "\n",
        "model = whisper.load_model(\"base\")\n",
        "result = model.transcribe(\"/content/extention_v2.mp3\")\n",
        "print(f' The text in video: \\n {result[\"text\"]}')"
      ],
      "metadata": {
        "id": "5out6r4RS1pS"
      },
      "execution_count": null,
      "outputs": []
    },
    {
      "cell_type": "code",
      "source": [
        "!whisper \"/content/extention_v2.mp3\" --language English"
      ],
      "metadata": {
        "id": "fkuazdmrYW-4"
      },
      "execution_count": null,
      "outputs": []
    },
    {
      "cell_type": "code",
      "execution_count": null,
      "metadata": {
        "id": "DaZBFLPK7is2"
      },
      "outputs": [],
      "source": [
        "!wget https://gpt4all.io/models/ggml-gpt4all-j-v1.3-groovy.bin"
      ]
    },
    {
      "cell_type": "markdown",
      "source": [
        "**GPT Model for summary**"
      ],
      "metadata": {
        "id": "TyMCG_6gexGN"
      }
    },
    {
      "cell_type": "code",
      "execution_count": null,
      "metadata": {
        "id": "TN0OKdi3_kDg"
      },
      "outputs": [],
      "source": [
        "!pip install gpt4all"
      ]
    },
    {
      "cell_type": "code",
      "execution_count": 15,
      "metadata": {
        "id": "YetVwZ1SC8Np"
      },
      "outputs": [],
      "source": [
        "meet_data=result[\"text\"]\n",
        "prompt=f'''Provide me point wise summary of meeting with proper  title from this text \"{meet_data}\".'''"
      ]
    },
    {
      "cell_type": "code",
      "source": [
        "from gpt4all import GPT4All\n",
        "model = GPT4All(\"orca-mini-3b.ggmlv3.q4_0.bin\")\n",
        "output = model.generate(prompt)\n",
        "print(f'The summary of meeting : \\n {output}')"
      ],
      "metadata": {
        "id": "JULZFtXUjqfv"
      },
      "execution_count": null,
      "outputs": []
    },
    {
      "cell_type": "code",
      "source": [],
      "metadata": {
        "id": "u-fGtOVJSr0Y"
      },
      "execution_count": null,
      "outputs": []
    }
  ],
  "metadata": {
    "accelerator": "GPU",
    "colab": {
      "provenance": []
    },
    "kernelspec": {
      "display_name": "Python 3",
      "name": "python3"
    },
    "language_info": {
      "name": "python"
    }
  },
  "nbformat": 4,
  "nbformat_minor": 0
}